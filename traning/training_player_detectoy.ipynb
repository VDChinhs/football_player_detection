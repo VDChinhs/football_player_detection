{
 "cells": [
  {
   "cell_type": "code",
   "execution_count": null,
   "metadata": {},
   "outputs": [],
   "source": [
    "from google.colab import drive\n",
    "drive.mount('/content/drive')"
   ]
  },
  {
   "cell_type": "code",
   "execution_count": null,
   "metadata": {},
   "outputs": [],
   "source": [
    "!pip install ultralytics"
   ]
  },
  {
   "cell_type": "code",
   "execution_count": null,
   "metadata": {},
   "outputs": [],
   "source": [
    "!pip install roboflow"
   ]
  },
  {
   "cell_type": "code",
   "execution_count": null,
   "metadata": {},
   "outputs": [],
   "source": [
    "from ultralytics import YOLO\n",
    "from roboflow import Roboflow\n",
    "from pathlib import Path"
   ]
  },
  {
   "cell_type": "code",
   "execution_count": null,
   "metadata": {},
   "outputs": [],
   "source": [
    "rf = Roboflow(api_key=\"2leBNUiZBNNS7jZhxVq8\")\n",
    "project = rf.workspace(\"roboflow-jvuqo\").project(\"football-players-detection-3zvbc\")\n",
    "version = project.version(7)\n",
    "dataset = version.download(\"yolov8\")"
   ]
  },
  {
   "cell_type": "code",
   "execution_count": null,
   "metadata": {},
   "outputs": [],
   "source": [
    "path_dataset = Path(\"/content/football-players-detection-7\")\n",
    "path_yaml = '/content/football-players-detection-7/data.yaml'\n",
    "len_train = len(list((path_dataset/ \"train/images\").iterdir()))\n",
    "len_val = len(list((path_dataset/ \"valid/images\").iterdir()))\n",
    "len_test = len(list((path_dataset/ \"test/images\").iterdir()))\n",
    "print(f\"Number of examples: train: {len_train}, val: {len_val}, test: {len_test}\")"
   ]
  },
  {
   "cell_type": "markdown",
   "metadata": {},
   "source": [
    "Edit file data.yaml:\n",
    "\n",
    "names:\n",
    "- ball\n",
    "- goalkeeper\n",
    "- player\n",
    "- referee\n",
    "nc: 4\n",
    "roboflow:\n",
    "  license: CC BY 4.0\n",
    "  project: football-players-detection-3zvbc\n",
    "  url: https://universe.roboflow.com/roboflow-jvuqo/football-players-detection-3zvbc/dataset/7\n",
    "  version: 7\n",
    "  workspace: roboflow-jvuqo\n",
    "test: /content/football-players-detection-7/test/images\n",
    "train: /content/football-players-detection-7/train/images\n",
    "val: /content/football-players-detection-7/valid/images\n"
   ]
  },
  {
   "cell_type": "markdown",
   "metadata": {},
   "source": [
    "# Có 2 cách train"
   ]
  },
  {
   "cell_type": "code",
   "execution_count": null,
   "metadata": {},
   "outputs": [],
   "source": [
    "model = YOLO(\"yolov8m.pt\")\n",
    "model.train(data=str(path_yaml), epochs=100, imgsz=640, device=0, batch=16,)\n"
   ]
  },
  {
   "cell_type": "code",
   "execution_count": null,
   "metadata": {},
   "outputs": [],
   "source": [
    "# !yolo task=detect mode=train model=yolov8m.pt data={dataset.location}/data.yaml epochs=3 imgsz=640"
   ]
  },
  {
   "cell_type": "code",
   "execution_count": null,
   "metadata": {},
   "outputs": [],
   "source": [
    "# sử dụng model dự đoán\n",
    "model_player  = YOLO(\"/content/runs/detect/train7/weights/best.pt\")\n",
    "result = model_player.predict('/content/drive/MyDrive/CV-Yolo Detection/liv1.png',conf = 0.2, save = True)"
   ]
  }
 ],
 "metadata": {
  "language_info": {
   "name": "python"
  }
 },
 "nbformat": 4,
 "nbformat_minor": 2
}
